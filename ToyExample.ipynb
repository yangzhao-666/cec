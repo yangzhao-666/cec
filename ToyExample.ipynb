{
 "cells": [
  {
   "cell_type": "code",
   "execution_count": 1,
   "metadata": {},
   "outputs": [],
   "source": [
    "import gym\n",
    "from gym import spaces\n",
    "from gym.utils import seeding\n",
    "import numpy as np"
   ]
  },
  {
   "cell_type": "code",
   "execution_count": 2,
   "metadata": {},
   "outputs": [],
   "source": [
    "import matplotlib.pyplot as plt"
   ]
  },
  {
   "cell_type": "code",
   "execution_count": 3,
   "metadata": {},
   "outputs": [],
   "source": [
    "from CEC import CEC\n",
    "import copy"
   ]
  },
  {
   "cell_type": "code",
   "execution_count": 4,
   "metadata": {},
   "outputs": [],
   "source": [
    "plt.style.use('seaborn')"
   ]
  },
  {
   "cell_type": "code",
   "execution_count": 5,
   "metadata": {},
   "outputs": [],
   "source": [
    "'''\n",
    "---- DESCRIPTION ----\n",
    "Grow a tree to a given height.\n",
    "state: the current height of the tree. Box(0, height, (1,))\n",
    "action: the height you want to grow the tree. Box(-0.1, 0.1, (1,))\n",
    "reward: 1 if the tree is the same/similar height with the given requirement, 0 otherwise.\n",
    "'''\n",
    "\n",
    "class GrowingTreeEnv(gym.Env):\n",
    "\n",
    "    def __init__(self, tree_height=2, init_state=0, max_steps=50):\n",
    "        self.init_state = np.array([init_state])\n",
    "        self.goal = tree_height\n",
    "        self.action_space = spaces.Box(low=-0.1, high=0.1, shape=(1,), dtype=np.float32)\n",
    "        self.observation_space = spaces.Box(low=-tree_height, high=tree_height, shape=(1,), dtype=np.float32)\n",
    "        self.seed()\n",
    "        self.total_steps = 0\n",
    "        self.max_steps = max_steps\n",
    "\n",
    "    def seed(self, seed=None):\n",
    "        self.np_random, seed = seeding.np_random(seed)\n",
    "        return [seed]\n",
    "\n",
    "    def step(self, a):\n",
    "        self.total_steps += 1\n",
    "        self.state = self.state + a\n",
    "        if np.abs(self.state - self.goal) < 0.1:\n",
    "            reward = 1\n",
    "            done = True\n",
    "        elif self.total_steps >= self.max_steps:\n",
    "            reward = 0\n",
    "            done = True\n",
    "        else:\n",
    "            reward = 0\n",
    "            done = False\n",
    "        return self._get_obs(), reward, done, {}\n",
    "\n",
    "    def reset(self):\n",
    "        self.state = self.init_state\n",
    "        self.total_steps = 0\n",
    "        return self._get_obs()\n",
    "\n",
    "    def _get_obs(self):\n",
    "        return self.state"
   ]
  },
  {
   "cell_type": "code",
   "execution_count": 6,
   "metadata": {},
   "outputs": [],
   "source": [
    "def render(state):\n",
    "    plt.figure(figsize=(0.5, 2))\n",
    "    \n",
    "    plt.xticks([])\n",
    "    \n",
    "    plt.bar(0, state)\n",
    "    plt.ylim(0, 2)"
   ]
  },
  {
   "cell_type": "code",
   "execution_count": 7,
   "metadata": {},
   "outputs": [],
   "source": [
    "def evaluate(cec, env):\n",
    "    states = []\n",
    "    actions = []\n",
    "    \n",
    "    s = env.reset()\n",
    "    states.append(s)\n",
    "    done = False\n",
    "    solved = False\n",
    "    while not done:\n",
    "        a, _ = cec.select_action(s, evaluate=True)\n",
    "        n_s, r, done, _ = env.step(a)\n",
    "        states.append(n_s)\n",
    "        actions.append(a)\n",
    "        s = n_s\n",
    "    if r == 1:\n",
    "        solved = True\n",
    "    return states, actions, solved"
   ]
  },
  {
   "cell_type": "code",
   "execution_count": 24,
   "metadata": {},
   "outputs": [],
   "source": [
    "def plot_all_states(all_states, eval_actions=None, target=2, steps=10, max_steps=200):\n",
    "    length = len(all_states)\n",
    "    nrows = int(length/steps)\n",
    "    fig, axes = plt.subplots(figsize=(16,8),nrows=nrows, ncols=2)\n",
    "    idxs = [x * steps for x in range(nrows)]\n",
    "    \n",
    "    for n, idx in enumerate(idxs):\n",
    "        #plt.bar(x=[i for i in range(len(all_states[n]))], height=[s[0] for s in all_states[n]], ax=axes[0,n])\n",
    "        axes[n][0].bar(x=[i for i in range(len(all_states[idx]))], height=[s[0] for s in all_states[idx]], color='tab:blue')\n",
    "        axes[n][0].axhline(target, color='tab:red')\n",
    "        axes[n][0].set_xlim(0, max_steps)\n",
    "        axes[n][0].set_yticks([])\n",
    "        axes[n][0].set_xticks([])\n",
    "        \n",
    "        if eval_actions[idx] is not None:\n",
    "            axes[n][1].bar(x=[i for i in range(len(eval_actions[idx]))], height=[a[0] for a in eval_actions[idx]], color='tab:orange')\n",
    "            axes[n][1].axvline(100, color='tab:red')\n",
    "            axes[n][1].axhline(0.1, color='tab:green')\n",
    "            axes[n][1].set_yticks([])\n",
    "            axes[n][1].set_xticks([])\n",
    "            axes[n][1].set_ylim(-0.1, 0.1)"
   ]
  },
  {
   "cell_type": "code",
   "execution_count": 10,
   "metadata": {
    "scrolled": false
   },
   "outputs": [],
   "source": [
    "max_steps = 100000\n",
    "total_t = 0\n",
    "target = 1\n",
    "env = GrowingTreeEnv(tree_height=target, max_steps=200)\n",
    "env.reset()\n",
    "cec = CEC(gamma=0.99, capacity=10000, distance_threshold=0.01, action_space=env.action_space, exploration='random', eps_decay_steps=100000, act_noise=0.1, T=1)\n",
    "all_states = []\n",
    "all_actions = []\n",
    "eval_actions = []\n",
    "while total_t < max_steps:\n",
    "    done = False\n",
    "    eps_s = []\n",
    "    eps_r = []\n",
    "    eps_a = []\n",
    "    s = env.reset()\n",
    "    while not done:\n",
    "        a = cec.select_action(s)\n",
    "        n_s, r, done, _ = env.step(a)\n",
    "        eps_s.append(s)\n",
    "        eps_r.append(r)\n",
    "        eps_a.append(a)\n",
    "        s = n_s\n",
    "        total_t += 1\n",
    "        \n",
    "        if total_t % 2000 == 0:\n",
    "            train_env = copy.deepcopy(env)\n",
    "            states, actions, solved = evaluate(cec, env)\n",
    "            all_states.append(eps_s)\n",
    "            all_actions.append(eps_a)\n",
    "            \n",
    "            actions = []\n",
    "            for e_s in np.arange(0, 0.9, 0.01):\n",
    "                action, _ = cec.select_action(np.array([e_s]), evaluate=True)\n",
    "                actions.append(action)\n",
    "            eval_actions.append(actions)\n",
    "            env = train_env\n",
    "            #if solved:\n",
    "            #    print('The task is solved using {} steps'.format(total_t))\n",
    "            #    break\n",
    "    cec.update(eps_s, eps_a, eps_r)"
   ]
  },
  {
   "cell_type": "markdown",
   "metadata": {},
   "source": [
    "The performance drop is because there are more and more new states being added. Previously, coarse solution might work good."
   ]
  },
  {
   "cell_type": "code",
   "execution_count": 25,
   "metadata": {
    "scrolled": false
   },
   "outputs": [
    {
     "data": {
      "image/png": "[encoded data removed]",
      "text/plain": [
       "<Figure size 1152x576 with 20 Axes>"
      ]
     },
     "metadata": {},
     "output_type": "display_data"
    }
   ],
   "source": [
    "plot_all_states(all_states, steps=5, target=1, eval_actions=eval_actions)"
   ]
  },
  {
   "cell_type": "code",
   "execution_count": 273,
   "metadata": {},
   "outputs": [],
   "source": [
    "actions = []\n",
    "for s in np.arange(0, 0.9, 0.01):\n",
    "    action, _ = cec.select_action(np.array([s]), evaluate=True)\n",
    "    actions.append(action)"
   ]
  },
  {
   "cell_type": "code",
   "execution_count": 274,
   "metadata": {},
   "outputs": [
    {
     "data": {
      "text/plain": [
       "<BarContainer object of 90 artists>"
      ]
     },
     "execution_count": 274,
     "metadata": {},
     "output_type": "execute_result"
    },
    {
     "data": {
      "image/png": "[encoded data removed]",
      "text/plain": [
       "<Figure size 432x288 with 1 Axes>"
      ]
     },
     "metadata": {
      "needs_background": "light"
     },
     "output_type": "display_data"
    }
   ],
   "source": [
    "plt.bar(x=[i for i in range(len(actions))], height=[a[0] for a in actions])"
   ]
  },
  {
   "cell_type": "code",
   "execution_count": 271,
   "metadata": {},
   "outputs": [
    {
     "data": {
      "image/png": "[encoded data removed]",
      "text/plain": [
       "<Figure size 1152x576 with 25 Axes>"
      ]
     },
     "metadata": {},
     "output_type": "display_data"
    }
   ],
   "source": [
    "plot_all_states(all_actions, steps=2, target=0.1)"
   ]
  },
  {
   "cell_type": "markdown",
   "metadata": {},
   "source": [
    "# Restricted Env"
   ]
  },
  {
   "cell_type": "code",
   "execution_count": 12,
   "metadata": {},
   "outputs": [],
   "source": [
    "'''\n",
    "---- DESCRIPTION ----\n",
    "Grow a tree to a given height.\n",
    "state: the current height of the tree. Box(0, height, (1,))\n",
    "action: the height you want to grow the tree. Box(-0.1, 0.1, (1,))\n",
    "reward: 1 if the tree is the same/similar height with the given requirement, 0 otherwise.\n",
    "'''\n",
    "\n",
    "class GrowingTreeEnv(gym.Env):\n",
    "\n",
    "    def __init__(self, tree_height=2, init_state=0, max_steps=50, restrict=-10, action_range=[0.01, 0.02, 0.06, 0.08]):\n",
    "        self.init_state = np.array([init_state])\n",
    "        self.goal = tree_height\n",
    "        self.action_space = spaces.Box(low=-0.1, high=0.1, shape=(1,), dtype=np.float32)\n",
    "        self.observation_space = spaces.Box(low=-tree_height, high=tree_height, shape=(1,), dtype=np.float32)\n",
    "        self.seed()\n",
    "        self.total_steps = 0\n",
    "        self.max_steps = max_steps\n",
    "        self.restrict = restrict\n",
    "        self.action_range = action_range\n",
    "        self.action_range_n = int(len(self.action_range) / 2)\n",
    "\n",
    "    def seed(self, seed=None):\n",
    "        self.np_random, seed = seeding.np_random(seed)\n",
    "        return [seed]\n",
    "\n",
    "    def step(self, a):\n",
    "        if a >= self.restrict:\n",
    "            return self._get_obs(), 0, True, {}\n",
    "        within = False\n",
    "        for n in range(self.action_range_n):\n",
    "            if a >= self.action_range[2*n] and a <= self.action_range[2*n+1]:\n",
    "                within = True\n",
    "                break\n",
    "        if not within:\n",
    "            return self._get_obs(), 0, True, {}\n",
    "        self.total_steps += 1\n",
    "        self.state = self.state + a\n",
    "        if np.abs(self.state - self.goal) < 0.1:\n",
    "            reward = 1\n",
    "            done = True\n",
    "        elif self.total_steps >= self.max_steps:\n",
    "            reward = 0\n",
    "            done = True\n",
    "        else:\n",
    "            reward = 0\n",
    "            done = False\n",
    "        return self._get_obs(), reward, done, {}\n",
    "\n",
    "    def reset(self):\n",
    "        self.state = self.init_state\n",
    "        self.total_steps = 0\n",
    "        return self._get_obs()\n",
    "\n",
    "    def _get_obs(self):\n",
    "        return self.state"
   ]
  },
  {
   "cell_type": "code",
   "execution_count": 89,
   "metadata": {},
   "outputs": [
    {
     "name": "stdout",
     "output_type": "stream",
     "text": [
      "The task is solved using 2000 steps\n"
     ]
    },
    {
     "ename": "ValueError",
     "evalue": "stop",
     "output_type": "error",
     "traceback": [
      "\u001b[0;31m---------------------------------------------------------------------------\u001b[0m",
      "\u001b[0;31mValueError\u001b[0m                                Traceback (most recent call last)",
      "\u001b[0;32m<ipython-input-89-c80b65681fa9>\u001b[0m in \u001b[0;36m<module>\u001b[0;34m\u001b[0m\n\u001b[1;32m     38\u001b[0m             \u001b[0;32mif\u001b[0m \u001b[0msolved\u001b[0m\u001b[0;34m:\u001b[0m\u001b[0;34m\u001b[0m\u001b[0m\n\u001b[1;32m     39\u001b[0m                 \u001b[0mprint\u001b[0m\u001b[0;34m(\u001b[0m\u001b[0;34m'The task is solved using {} steps'\u001b[0m\u001b[0;34m.\u001b[0m\u001b[0mformat\u001b[0m\u001b[0;34m(\u001b[0m\u001b[0mtotal_t\u001b[0m\u001b[0;34m)\u001b[0m\u001b[0;34m)\u001b[0m\u001b[0;34m\u001b[0m\u001b[0m\n\u001b[0;32m---> 40\u001b[0;31m                 \u001b[0;32mraise\u001b[0m \u001b[0mValueError\u001b[0m\u001b[0;34m(\u001b[0m\u001b[0;34m'stop'\u001b[0m\u001b[0;34m)\u001b[0m\u001b[0;34m\u001b[0m\u001b[0m\n\u001b[0m\u001b[1;32m     41\u001b[0m     \u001b[0mcec\u001b[0m\u001b[0;34m.\u001b[0m\u001b[0mupdate\u001b[0m\u001b[0;34m(\u001b[0m\u001b[0meps_s\u001b[0m\u001b[0;34m,\u001b[0m \u001b[0meps_a\u001b[0m\u001b[0;34m,\u001b[0m \u001b[0meps_r\u001b[0m\u001b[0;34m)\u001b[0m\u001b[0;34m\u001b[0m\u001b[0m\n",
      "\u001b[0;31mValueError\u001b[0m: stop"
     ]
    }
   ],
   "source": [
    "max_steps = 100000\n",
    "total_t = 0\n",
    "target = 1\n",
    "\n",
    "env = GrowingTreeEnv(tree_height=target, max_steps=200, restrict=0.1, action_range=[-0.1, 0.1])\n",
    "env.reset()\n",
    "cec = CEC(gamma=0.99, capacity=10000, distance_threshold=0.01, action_space=env.action_space, exploration='random', eps_decay_steps=100000, act_noise=0.1, T=1)\n",
    "all_states = []\n",
    "all_actions = []\n",
    "eval_actions = []\n",
    "while total_t < max_steps:\n",
    "    done = False\n",
    "    eps_s = []\n",
    "    eps_r = []\n",
    "    eps_a = []\n",
    "    s = env.reset()\n",
    "    while not done:\n",
    "        a = cec.select_action(s)\n",
    "        n_s, r, done, _ = env.step(a)\n",
    "        eps_s.append(s)\n",
    "        eps_r.append(r)\n",
    "        eps_a.append(a)\n",
    "        s = n_s\n",
    "        total_t += 1\n",
    "        \n",
    "        if total_t % 2000 == 0:\n",
    "            train_env = copy.deepcopy(env)\n",
    "            states, actions, solved = evaluate(cec, env)\n",
    "            all_states.append(eps_s)\n",
    "            all_actions.append(eps_a)\n",
    "            \n",
    "            actions = []\n",
    "            for e_s in np.arange(0, 0.9, 0.01):\n",
    "                action, _ = cec.select_action(np.array([e_s]), evaluate=True)\n",
    "                actions.append(action)\n",
    "            eval_actions.append(actions)\n",
    "            env = train_env\n",
    "            if solved:\n",
    "                print('The task is solved using {} steps'.format(total_t))\n",
    "                raise ValueError('stop')\n",
    "    cec.update(eps_s, eps_a, eps_r)"
   ]
  },
  {
   "cell_type": "markdown",
   "metadata": {},
   "source": [
    "### restrict=0.09"
   ]
  },
  {
   "cell_type": "code",
   "execution_count": 58,
   "metadata": {
    "scrolled": false
   },
   "outputs": [
    {
     "data": {
      "image/png": "[encoded data removed]",
      "text/plain": [
       "<Figure size 1152x576 with 20 Axes>"
      ]
     },
     "metadata": {},
     "output_type": "display_data"
    }
   ],
   "source": [
    "plot_all_states(all_states, steps=5, target=1, eval_actions=eval_actions)"
   ]
  },
  {
   "cell_type": "code",
   "execution_count": 59,
   "metadata": {},
   "outputs": [
    {
     "data": {
      "text/plain": [
       "<matplotlib.lines.Line2D at 0x7fe9c3d56358>"
      ]
     },
     "execution_count": 59,
     "metadata": {},
     "output_type": "execute_result"
    },
    {
     "data": {
      "image/png": "[encoded data removed]",
      "text/plain": [
       "<Figure size 576x396 with 1 Axes>"
      ]
     },
     "metadata": {},
     "output_type": "display_data"
    }
   ],
   "source": [
    "plt.bar(x=[i for i in range(len(eval_actions[-1]))], height=[a[0] for a in eval_actions[-1]])\n",
    "plt.axhline(y=0.055, color='tab:red')\n",
    "plt.axhline(y=0.06, color='tab:red')\n",
    "plt.axhline(y=0.095, color='tab:red')"
   ]
  },
  {
   "cell_type": "markdown",
   "metadata": {},
   "source": [
    "### Test the CEC agent under different constraints"
   ]
  },
  {
   "cell_type": "markdown",
   "metadata": {},
   "source": [
    "No restricts: 2000, 2000, 2000, 4000, 2000\n",
    "\n",
    "restrict > 0.95: 24000, 6000, 4000, 2000, 18000\n",
    "\n",
    "restrict > 0.95 and invalid [0.55, 0.6]: 8000, 100000, 6000, 14000, 100000\n",
    "\n",
    "restrict > 0.95 and invalid [0.55, 0.6], [0.8, 0.85]: 6000, 100000, 100000, 100000, 100000"
   ]
  },
  {
   "cell_type": "code",
   "execution_count": 90,
   "metadata": {},
   "outputs": [],
   "source": [
    "a = [2000, 2000, 2000, 4000, 2000]\n",
    "b = [24000, 6000, 4000, 2000, 18000]\n",
    "c = [8000, 100000, 6000, 14000, 100000]\n",
    "d = [6000, 100000, 100000, 100000, 100000]"
   ]
  },
  {
   "cell_type": "code",
   "execution_count": 122,
   "metadata": {
    "scrolled": false
   },
   "outputs": [
    {
     "data": {
      "text/plain": [
       "Text(0, 0.5, 'Steps needed to solve the task')"
      ]
     },
     "execution_count": 122,
     "metadata": {},
     "output_type": "execute_result"
    },
    {
     "data": {
      "image/png": "[encoded data removed]",
      "text/plain": [
       "<Figure size 576x396 with 1 Axes>"
      ]
     },
     "metadata": {},
     "output_type": "display_data"
    }
   ],
   "source": [
    "plt.bar(x=[0,1,2,3], height=[np.mean(a), np.mean(b), np.mean(c), np.mean(d)], color='tab:blue')\n",
    "plt.errorbar(x=[0,1,2,3], y=[np.mean(a), np.mean(b), np.mean(c), np.mean(d)], yerr=[np.std(a)/2, np.std(b)/2, np.std(c)/2, np.std(d)/2], fmt='o', color='tab:red')\n",
    "# plt.xticks(ticks=[0,1,2,3], labels=['No restriction', 't=0.95', 't=0.95 and A=[0.55:0.6]', 't=0.95 and A=[0.55:0.6, 0.8:0.85]'])\n",
    "plt.xticks(ticks=[0,1,2,3], labels=['a', 'b', 'c', 'd'], fontsize=20)\n",
    "plt.yticks(fontsize=16)\n",
    "plt.ylabel('Steps needed to solve the task', fontsize=20)"
   ]
  },
  {
   "cell_type": "code",
   "execution_count": 119,
   "metadata": {},
   "outputs": [
    {
     "data": {
      "text/plain": [
       "200.0"
      ]
     },
     "execution_count": 119,
     "metadata": {},
     "output_type": "execute_result"
    }
   ],
   "source": [
    "np.std(a)/4"
   ]
  },
  {
   "cell_type": "code",
   "execution_count": null,
   "metadata": {},
   "outputs": [],
   "source": []
  }
 ],
 "metadata": {
  "kernelspec": {
   "display_name": "cec",
   "language": "python",
   "name": "cec"
  },
  "language_info": {
   "codemirror_mode": {
    "name": "ipython",
    "version": 3
   },
   "file_extension": ".py",
   "mimetype": "text/x-python",
   "name": "python",
   "nbconvert_exporter": "python",
   "pygments_lexer": "ipython3",
   "version": "3.7.0"
  }
 },
 "nbformat": 4,
 "nbformat_minor": 4
}
